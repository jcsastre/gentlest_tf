{
 "cells": [
  {
   "cell_type": "markdown",
   "metadata": {
    "deletable": true,
    "editable": true
   },
   "source": [
    "# Polynomial regression (Stochastic Gradient Descent, Fixed Learning Rate)"
   ]
  },
  {
   "cell_type": "code",
   "execution_count": 1,
   "metadata": {
    "collapsed": true,
    "deletable": true,
    "editable": true
   },
   "outputs": [],
   "source": [
    "%matplotlib inline\n",
    "import tensorflow as tf\n",
    "import numpy as np\n",
    "import matplotlib.pyplot as plt"
   ]
  },
  {
   "cell_type": "markdown",
   "metadata": {
    "deletable": true,
    "editable": true
   },
   "source": [
    "## Fake data generation"
   ]
  },
  {
   "cell_type": "code",
   "execution_count": 2,
   "metadata": {
    "collapsed": false,
    "deletable": true,
    "editable": true
   },
   "outputs": [
    {
     "data": {
      "text/plain": [
       "<matplotlib.collections.PathCollection at 0x7f8a5f2b49d0>"
      ]
     },
     "execution_count": 2,
     "metadata": {},
     "output_type": "execute_result"
    },
    {
     "data": {
      "image/png": "[encoded data removed]",
      "text/plain": [
       "<matplotlib.figure.Figure at 0x7f8a61313650>"
      ]
     },
     "metadata": {},
     "output_type": "display_data"
    }
   ],
   "source": [
    "x_train = np.linspace(-1, 1, 101)\n",
    "\n",
    "NUM_COEFFS = 6 # degree 6 polynomial\n",
    "trY_coeffs = [1, 2, 3, 4, 5, 6]\n",
    "y_train = 0\n",
    "for i in range(NUM_COEFFS):\n",
    "    y_train += trY_coeffs[i] * np.power(x_train, i)\n",
    "y_train += np.random.randn(*x_train.shape) * 1.5 # noise\n",
    "\n",
    "plt.scatter(x_train, y_train)"
   ]
  },
  {
   "cell_type": "markdown",
   "metadata": {
    "collapsed": true,
    "deletable": true,
    "editable": true
   },
   "source": [
    "## TF"
   ]
  },
  {
   "cell_type": "code",
   "execution_count": 3,
   "metadata": {
    "collapsed": false,
    "deletable": true,
    "editable": true
   },
   "outputs": [
    {
     "name": "stdout",
     "output_type": "stream",
     "text": [
      "[ 1.21090996  0.98149884  2.23161888  6.65394306  5.50476694  5.26087379]\n"
     ]
    }
   ],
   "source": [
    "def model(X, w):\n",
    "    terms = []\n",
    "    for i in range(NUM_COEFFS):\n",
    "        term = tf.multiply(w[i], tf.pow(X, i))\n",
    "        terms.append(term)\n",
    "    return tf.add_n(terms)\n",
    "\n",
    "LEARNING_RATE = 0.01\n",
    "TRAINING_EPOCHS = 300\n",
    "\n",
    "x = tf.placeholder(tf.float32) # features (input)\n",
    "y_ = tf.placeholder(tf.float32) # labels\n",
    "w = tf.Variable([0.] * NUM_COEFFS, name=\"parameters\")\n",
    "y = model(x, w)\n",
    "\n",
    "cost = tf.reduce_mean(tf.square(y-y_))\n",
    "train_op = tf.train.GradientDescentOptimizer(LEARNING_RATE).minimize(cost)\n",
    "\n",
    "sess = tf.Session()\n",
    "init = tf.global_variables_initializer()\n",
    "sess.run(init)\n",
    "\n",
    "for epoch in range(TRAINING_EPOCHS):\n",
    "    for (_x, _y) in zip(x_train, y_train):\n",
    "        sess.run(train_op, feed_dict={x: _x, y_: _y})\n",
    "        \n",
    "w_val = sess.run(w)\n",
    "print(w_val)\n",
    "\n",
    "sess.close()"
   ]
  },
  {
   "cell_type": "markdown",
   "metadata": {
    "collapsed": true,
    "deletable": true,
    "editable": true
   },
   "source": [
    "## Plot of learned model"
   ]
  },
  {
   "cell_type": "code",
   "execution_count": 4,
   "metadata": {
    "collapsed": false,
    "deletable": true,
    "editable": true
   },
   "outputs": [
    {
     "data": {
      "image/png": "[encoded data removed]",
      "text/plain": [
       "<matplotlib.figure.Figure at 0x7f8a5f226b10>"
      ]
     },
     "metadata": {},
     "output_type": "display_data"
    }
   ],
   "source": [
    "plt.scatter(x_train, y_train)\n",
    "trY2 = 0\n",
    "for i in range(NUM_COEFFS):\n",
    "    trY2 += w_val[i] * np.power(x_train, i)\n",
    "plt.plot(x_train, trY2, 'r')\n",
    "plt.show()"
   ]
  },
  {
   "cell_type": "code",
   "execution_count": null,
   "metadata": {
    "collapsed": true
   },
   "outputs": [],
   "source": []
  }
 ],
 "metadata": {
  "kernelspec": {
   "display_name": "Python 2",
   "language": "python",
   "name": "python2"
  },
  "language_info": {
   "codemirror_mode": {
    "name": "ipython",
    "version": 2
   },
   "file_extension": ".py",
   "mimetype": "text/x-python",
   "name": "python",
   "nbconvert_exporter": "python",
   "pygments_lexer": "ipython2",
   "version": "2.7.12"
  }
 },
 "nbformat": 4,
 "nbformat_minor": 2
}
